{
 "cells": [
  {
   "cell_type": "markdown",
   "metadata": {},
   "source": [
    "It is a study note over http://interactivepython.org/runestone/static/pythonds/index.html by Bradley N. Miller, David L. Ranum which is licensed under a Creative Commons Attribution-NonCommercial-ShareAlike 4.0 International License."
   ]
  },
  {
   "cell_type": "markdown",
   "metadata": {},
   "source": [
    "# Bubble Sort"
   ]
  },
  {
   "cell_type": "markdown",
   "metadata": {},
   "source": [
    "Shared and adapted by: YinTaiChen"
   ]
  },
  {
   "cell_type": "markdown",
   "metadata": {},
   "source": [
    "The __bubble sort__ makes multiple passes through a list."
   ]
  },
  {
   "cell_type": "markdown",
   "metadata": {},
   "source": [
    "It compares adjacent items and exchanges those that are out of order."
   ]
  },
  {
   "cell_type": "markdown",
   "metadata": {},
   "source": [
    "Each pass through the list places the next largest value in its proper order."
   ]
  },
  {
   "cell_type": "markdown",
   "metadata": {},
   "source": [
    "In essence, each item \"bubbles\" up to the lacation where it belongs."
   ]
  },
  {
   "cell_type": "markdown",
   "metadata": {},
   "source": [
    "![title](http://interactivepython.org/runestone/static/pythonds/_images/bubblepass.png)"
   ]
  },
  {
   "cell_type": "markdown",
   "metadata": {},
   "source": [
    "The exchange operation, sometimes called a \"swap\", is slightly different in Python than in most other programming languages."
   ]
  },
  {
   "cell_type": "markdown",
   "metadata": {},
   "source": [
    "In python, it is possible to perform simultaneous assignment."
   ]
  },
  {
   "cell_type": "markdown",
   "metadata": {},
   "source": [
    "* __a, b = b, a__ "
   ]
  },
  {
   "cell_type": "markdown",
   "metadata": {},
   "source": [
    "![title](http://interactivepython.org/runestone/static/pythonds/_images/swap.png)"
   ]
  },
  {
   "cell_type": "code",
   "execution_count": 1,
   "metadata": {
    "collapsed": true
   },
   "outputs": [],
   "source": [
    "def bubbleSort(alist):\n",
    "    for passnum in range(len(alist)-1, 0, -1):\n",
    "        for i in range(passnum):\n",
    "            if alist[i]>alist[i+1]:\n",
    "                alist[i], alist[i+1] = alist[i+1], alist[i]\n",
    "                \n",
    "        print(\"Pass \"+str(len(alist) - passnum)+\" result: \", alist)"
   ]
  },
  {
   "cell_type": "code",
   "execution_count": 2,
   "metadata": {
    "collapsed": false
   },
   "outputs": [
    {
     "name": "stdout",
     "output_type": "stream",
     "text": [
      "Pass 1 result:  [26, 54, 17, 77, 31, 44, 55, 20, 93]\n",
      "Pass 2 result:  [26, 17, 54, 31, 44, 55, 20, 77, 93]\n",
      "Pass 3 result:  [17, 26, 31, 44, 54, 20, 55, 77, 93]\n",
      "Pass 4 result:  [17, 26, 31, 44, 20, 54, 55, 77, 93]\n",
      "Pass 5 result:  [17, 26, 31, 20, 44, 54, 55, 77, 93]\n",
      "Pass 6 result:  [17, 26, 20, 31, 44, 54, 55, 77, 93]\n",
      "Pass 7 result:  [17, 20, 26, 31, 44, 54, 55, 77, 93]\n",
      "Pass 8 result:  [17, 20, 26, 31, 44, 54, 55, 77, 93]\n"
     ]
    }
   ],
   "source": [
    "alist = [54, 26, 93, 17, 77, 31, 44, 55, 20]\n",
    "bubbleSort(alist)"
   ]
  },
  {
   "cell_type": "markdown",
   "metadata": {},
   "source": [
    "To analyze the bubble sort, we should note that regardless of how the items are arranged in the initial list, n-1 passes will be made to sort a list of size n."
   ]
  },
  {
   "cell_type": "markdown",
   "metadata": {},
   "source": [
    "A bubble sort if often considered the most inefficient sorting method since it must exchange items before the final location is known,"
   ]
  },
  {
   "cell_type": "markdown",
   "metadata": {},
   "source": [
    "However, a bubble sort can be modified to stop early if it find that the list has become sorted."
   ]
  },
  {
   "cell_type": "code",
   "execution_count": 3,
   "metadata": {
    "collapsed": true
   },
   "outputs": [],
   "source": [
    "def shortBubbleSort(alist):\n",
    "    exchanges = True\n",
    "    passnum = len(alist)-1\n",
    "    while passnum > 0 and exchanges:\n",
    "        exchanges = False\n",
    "        for i in range(passnum):\n",
    "            if alist[i]>alist[i+1]:\n",
    "                exchanges = True\n",
    "                alist[i], alist[i+1] = alist[i+1], alist[i]\n",
    "                \n",
    "        print(\"Pass \"+str(len(alist) - passnum)+\" result: \", alist)\n",
    "        \n",
    "        passnum -= 1"
   ]
  },
  {
   "cell_type": "code",
   "execution_count": 4,
   "metadata": {
    "collapsed": false
   },
   "outputs": [
    {
     "name": "stdout",
     "output_type": "stream",
     "text": [
      "Pass 1 result:  [20, 30, 40, 50, 60, 70, 80, 90, 100, 110]\n",
      "Pass 2 result:  [20, 30, 40, 50, 60, 70, 80, 90, 100, 110]\n"
     ]
    }
   ],
   "source": [
    "alist = [20, 30, 40, 90, 50, 60, 70, 80, 100, 110]\n",
    "shortBubbleSort(alist)"
   ]
  }
 ],
 "metadata": {
  "kernelspec": {
   "display_name": "Python 3",
   "language": "python",
   "name": "python3"
  },
  "language_info": {
   "codemirror_mode": {
    "name": "ipython",
    "version": 3
   },
   "file_extension": ".py",
   "mimetype": "text/x-python",
   "name": "python",
   "nbconvert_exporter": "python",
   "pygments_lexer": "ipython3",
   "version": "3.6.0"
  }
 },
 "nbformat": 4,
 "nbformat_minor": 2
}
